{
  "nbformat": 4,
  "nbformat_minor": 0,
  "metadata": {
    "colab": {
      "provenance": [],
      "authorship_tag": "ABX9TyMVEAVK0IArjW/D/kCuTv/a",
      "include_colab_link": true
    },
    "kernelspec": {
      "name": "python3",
      "display_name": "Python 3"
    },
    "language_info": {
      "name": "python"
    }
  },
  "cells": [
    {
      "cell_type": "markdown",
      "metadata": {
        "id": "view-in-github",
        "colab_type": "text"
      },
      "source": [
        "<a href=\"https://colab.research.google.com/github/627alyosa451/hu-bby261-2025/blob/main/ilk_ders_class.ipynb\" target=\"_parent\"><img src=\"https://colab.research.google.com/assets/colab-badge.svg\" alt=\"Open In Colab\"/></a>"
      ]
    },
    {
      "cell_type": "code",
      "execution_count": null,
      "metadata": {
        "colab": {
          "base_uri": "https://localhost:8080/"
        },
        "id": "UZNcuahxMmQh",
        "outputId": "53ba61e6-3edf-4a49-c988-344e2ac5f00e"
      },
      "outputs": [
        {
          "output_type": "stream",
          "name": "stdout",
          "text": [
            "Bu bisiklet kırmızı renkli ve 2 viteslidir.\n"
          ]
        }
      ],
      "source": [
        "# Örnek uygulama 2'i gözlemleyelim\n",
        "\n",
        "class Bisiklet:\n",
        "\n",
        "    def ozellikler(self):\n",
        "\n",
        "        renk =\"kırmızı\"\n",
        "        vites = 2\n",
        "\n",
        "        ozellikDetay = f\"Bu bisiklet {renk} renkli ve {vites} viteslidir.\"\n",
        "        return ozellikDetay\n",
        "\n",
        "bisiklet1 = Bisiklet()\n",
        "\n",
        "print(bisiklet1.ozellikler())\n",
        "\n",
        "\n"
      ]
    },
    {
      "cell_type": "code",
      "source": [
        "def ozellikler():\n",
        "\n",
        "    renk =\"kırmızı\"\n",
        "    vites = 2\n",
        "\n",
        "    ozellikDetay = f\"Bu bisiklet {renk} renkli ve {vites} viteslidir.\"\n",
        "    return ozellikDetay\n",
        "\n",
        "ozellikler()"
      ],
      "metadata": {
        "colab": {
          "base_uri": "https://localhost:8080/",
          "height": 35
        },
        "id": "3PON_FoEQqv_",
        "outputId": "e969963f-3e97-4e7d-fd51-22fda6292188"
      },
      "execution_count": null,
      "outputs": [
        {
          "output_type": "execute_result",
          "data": {
            "text/plain": [
              "'Bu bisiklet kırmızı renkli ve 2 viteslidir.'"
            ],
            "application/vnd.google.colaboratory.intrinsic+json": {
              "type": "string"
            }
          },
          "metadata": {},
          "execution_count": 23
        }
      ]
    },
    {
      "cell_type": "code",
      "source": [
        "class Camera():\n",
        "    distance = 2\n",
        "    speed_limit = 20\n",
        "    number_of_cars = 0\n",
        "\n",
        "    def Calc_Speed(self):\n",
        "        registration = input(\"Registration Plate: \")\n",
        "        Speeding_List=[]\n",
        "        start = float(input(\"Start time: \"))\n",
        "        end = float(input(\"End Time: \"))\n",
        "        speed = self.distance/(end-start)\n",
        "        print((\"Average Speed: \") + str(round(speed, 2)) + (\" mph\"))\n",
        "        if speed > self.speed_limit:\n",
        "            list3= [str(self.registration)]\n",
        "            Speeding_List.append(list3)\n",
        "            print(\"Vehicles Caught Speeding: \" + str(Speeding_List))\n",
        "            return(program.Counter())\n",
        "        else:\n",
        "            print(\"Vehicle Not Speeding\")\n",
        "            return(program.Counter())\n",
        "\n",
        "    def Counter(self):\n",
        "        self.number_of_cars = self.number_of_cars + 1\n",
        "        print(\"Number Of Cars Recorded: \" + str(self.number_of_cars))\n",
        "        return(program.Calc_Speed())\n",
        "\n",
        "\n",
        "\n",
        "program = Camera()\n",
        "program.Calc_Speed()"
      ],
      "metadata": {
        "colab": {
          "base_uri": "https://localhost:8080/",
          "height": 367
        },
        "id": "FDAEk99uPGEx",
        "outputId": "f0ba48f8-173a-4a24-c260-8d4a03b1b807"
      },
      "execution_count": null,
      "outputs": [
        {
          "output_type": "stream",
          "name": "stdout",
          "text": [
            "Registration Plate: asdf\n",
            "Start time: 0\n",
            "End Time: 0.00001\n",
            "Average Speed: 200000.0 mph\n"
          ]
        },
        {
          "output_type": "error",
          "ename": "AttributeError",
          "evalue": "'Camera' object has no attribute 'registration'",
          "traceback": [
            "\u001b[0;31m---------------------------------------------------------------------------\u001b[0m",
            "\u001b[0;31mAttributeError\u001b[0m                            Traceback (most recent call last)",
            "\u001b[0;32m<ipython-input-28-1818ddcb234b>\u001b[0m in \u001b[0;36m<cell line: 30>\u001b[0;34m()\u001b[0m\n\u001b[1;32m     28\u001b[0m \u001b[0;34m\u001b[0m\u001b[0m\n\u001b[1;32m     29\u001b[0m \u001b[0mprogram\u001b[0m \u001b[0;34m=\u001b[0m \u001b[0mCamera\u001b[0m\u001b[0;34m(\u001b[0m\u001b[0;34m)\u001b[0m\u001b[0;34m\u001b[0m\u001b[0;34m\u001b[0m\u001b[0m\n\u001b[0;32m---> 30\u001b[0;31m \u001b[0mprogram\u001b[0m\u001b[0;34m.\u001b[0m\u001b[0mCalc_Speed\u001b[0m\u001b[0;34m(\u001b[0m\u001b[0;34m)\u001b[0m\u001b[0;34m\u001b[0m\u001b[0;34m\u001b[0m\u001b[0m\n\u001b[0m",
            "\u001b[0;32m<ipython-input-28-1818ddcb234b>\u001b[0m in \u001b[0;36mCalc_Speed\u001b[0;34m(self)\u001b[0m\n\u001b[1;32m     12\u001b[0m         \u001b[0mprint\u001b[0m\u001b[0;34m(\u001b[0m\u001b[0;34m(\u001b[0m\u001b[0;34m\"Average Speed: \"\u001b[0m\u001b[0;34m)\u001b[0m \u001b[0;34m+\u001b[0m \u001b[0mstr\u001b[0m\u001b[0;34m(\u001b[0m\u001b[0mround\u001b[0m\u001b[0;34m(\u001b[0m\u001b[0mspeed\u001b[0m\u001b[0;34m,\u001b[0m \u001b[0;36m2\u001b[0m\u001b[0;34m)\u001b[0m\u001b[0;34m)\u001b[0m \u001b[0;34m+\u001b[0m \u001b[0;34m(\u001b[0m\u001b[0;34m\" mph\"\u001b[0m\u001b[0;34m)\u001b[0m\u001b[0;34m)\u001b[0m\u001b[0;34m\u001b[0m\u001b[0;34m\u001b[0m\u001b[0m\n\u001b[1;32m     13\u001b[0m         \u001b[0;32mif\u001b[0m \u001b[0mspeed\u001b[0m \u001b[0;34m>\u001b[0m \u001b[0mself\u001b[0m\u001b[0;34m.\u001b[0m\u001b[0mspeed_limit\u001b[0m\u001b[0;34m:\u001b[0m\u001b[0;34m\u001b[0m\u001b[0;34m\u001b[0m\u001b[0m\n\u001b[0;32m---> 14\u001b[0;31m             \u001b[0mlist3\u001b[0m\u001b[0;34m=\u001b[0m \u001b[0;34m[\u001b[0m\u001b[0mstr\u001b[0m\u001b[0;34m(\u001b[0m\u001b[0mself\u001b[0m\u001b[0;34m.\u001b[0m\u001b[0mregistration\u001b[0m\u001b[0;34m)\u001b[0m\u001b[0;34m]\u001b[0m\u001b[0;34m\u001b[0m\u001b[0;34m\u001b[0m\u001b[0m\n\u001b[0m\u001b[1;32m     15\u001b[0m             \u001b[0mSpeeding_List\u001b[0m\u001b[0;34m.\u001b[0m\u001b[0mappend\u001b[0m\u001b[0;34m(\u001b[0m\u001b[0mlist3\u001b[0m\u001b[0;34m)\u001b[0m\u001b[0;34m\u001b[0m\u001b[0;34m\u001b[0m\u001b[0m\n\u001b[1;32m     16\u001b[0m             \u001b[0mprint\u001b[0m\u001b[0;34m(\u001b[0m\u001b[0;34m\"Vehicles Caught Speeding: \"\u001b[0m \u001b[0;34m+\u001b[0m \u001b[0mstr\u001b[0m\u001b[0;34m(\u001b[0m\u001b[0mSpeeding_List\u001b[0m\u001b[0;34m)\u001b[0m\u001b[0;34m)\u001b[0m\u001b[0;34m\u001b[0m\u001b[0;34m\u001b[0m\u001b[0m\n",
            "\u001b[0;31mAttributeError\u001b[0m: 'Camera' object has no attribute 'registration'"
          ]
        }
      ]
    }
  ]
}