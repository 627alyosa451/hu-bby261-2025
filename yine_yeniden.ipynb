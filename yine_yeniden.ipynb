{
  "nbformat": 4,
  "nbformat_minor": 0,
  "metadata": {
    "colab": {
      "provenance": [],
      "authorship_tag": "ABX9TyNOJcSizBw5bkYbYNwYuE0y",
      "include_colab_link": true
    },
    "kernelspec": {
      "name": "python3",
      "display_name": "Python 3"
    },
    "language_info": {
      "name": "python"
    }
  },
  "cells": [
    {
      "cell_type": "markdown",
      "metadata": {
        "id": "view-in-github",
        "colab_type": "text"
      },
      "source": [
        "<a href=\"https://colab.research.google.com/github/627alyosa451/hu-bby261-2025/blob/main/yine_yeniden.ipynb\" target=\"_parent\"><img src=\"https://colab.research.google.com/assets/colab-badge.svg\" alt=\"Open In Colab\"/></a>"
      ]
    },
    {
      "cell_type": "code",
      "execution_count": 12,
      "metadata": {
        "colab": {
          "base_uri": "https://localhost:8080/"
        },
        "collapsed": true,
        "id": "dGIsgIiOqQ31",
        "outputId": "3bb0e685-044f-440c-bfdb-e0cb21a5f718"
      },
      "outputs": [
        {
          "output_type": "stream",
          "name": "stdout",
          "text": [
            "Https ekli halde url'yi giriniz: https://bye.hacettepe.edu.tr/course/view.php?id=664\n",
            "Siteye giriş yap | BBY\n"
          ]
        }
      ],
      "source": [
        "import requests\n",
        "from bs4 import BeautifulSoup\n",
        "\n",
        "kullanici = input(\"Https ekli halde url'yi giriniz: \")\n",
        "alan_adi = requests.get(kullanici).text\n",
        "\n",
        "soup = BeautifulSoup(alan_adi, 'html.parser')\n",
        "\n",
        "if soup.title:\n",
        "  print(soup.title.string)\n",
        "else:\n",
        "  print(\"hata\")\n",
        "\n",
        "for link in soup.find_all(\"a\"):\n",
        "  ekle = link.get(\"href\")\n",
        "  if ekle.startswith(\"http\"):\n",
        "    alan_adi1 = requests.get(ekle).text\n",
        "    bilmiyorum = BeautifulSoup(alan_adi1, \"html.parser\")\n",
        "    if bilmiyorum.title:\n",
        "      tanimlayici = bilmiyorum.title.string\n",
        "    f = open(\"/content/web.txt\", \"a\")\n",
        "    f.write(f\"{ekle} -------------------- {tanimlayici} \\n\")"
      ]
    },
    {
      "cell_type": "code",
      "source": [
        "f = open(\"/content/web.txt\", \"a\")\n",
        "f.write(\"deger\\n\")"
      ],
      "metadata": {
        "colab": {
          "base_uri": "https://localhost:8080/"
        },
        "id": "stYrItsM8Yl7",
        "outputId": "7e388454-82d8-4ebb-ab3f-b31437feb753"
      },
      "execution_count": null,
      "outputs": [
        {
          "output_type": "execute_result",
          "data": {
            "text/plain": [
              "6"
            ]
          },
          "metadata": {},
          "execution_count": 20
        }
      ]
    }
  ]
}