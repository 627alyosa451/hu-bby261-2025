{
  "nbformat": 4,
  "nbformat_minor": 0,
  "metadata": {
    "colab": {
      "provenance": [],
      "mount_file_id": "1z4j4J4jK-Yjj2dcXCRM8O3k77QhEe1o_",
      "authorship_tag": "ABX9TyNwG3DH+HixvDzo/ry5XVqC",
      "include_colab_link": true
    },
    "kernelspec": {
      "name": "python3",
      "display_name": "Python 3"
    },
    "language_info": {
      "name": "python"
    }
  },
  "cells": [
    {
      "cell_type": "markdown",
      "metadata": {
        "id": "view-in-github",
        "colab_type": "text"
      },
      "source": [
        "<a href=\"https://colab.research.google.com/github/627alyosa451/hu-bby261-2025/blob/main/harici_modul_uygulamasi.ipynb\" target=\"_parent\"><img src=\"https://colab.research.google.com/assets/colab-badge.svg\" alt=\"Open In Colab\"/></a>"
      ]
    },
    {
      "cell_type": "code",
      "execution_count": 12,
      "metadata": {
        "id": "eulKSQkDcdrv"
      },
      "outputs": [],
      "source": [
        "import sys\n",
        "sys.path.append('/content/drive/MyDrive/Colab Notebooks')\n"
      ]
    },
    {
      "cell_type": "code",
      "source": [
        "import kutuphane01\n",
        "benimKutuphanem = kutuphane01.Kut01\n",
        "print(benimKutuphanem.kut01Degisken)\n"
      ],
      "metadata": {
        "colab": {
          "base_uri": "https://localhost:8080/"
        },
        "id": "XUrwFukudB_7",
        "outputId": "e7578e8a-381d-44b4-f32c-cb6d06bb1f50"
      },
      "execution_count": 14,
      "outputs": [
        {
          "output_type": "stream",
          "name": "stdout",
          "text": [
            "Kütüphane 01\n"
          ]
        }
      ]
    }
  ]
}