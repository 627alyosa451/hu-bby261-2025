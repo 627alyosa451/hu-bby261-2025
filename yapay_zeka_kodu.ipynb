{
  "cells": [
    {
      "cell_type": "markdown",
      "metadata": {
        "id": "view-in-github",
        "colab_type": "text"
      },
      "source": [
        "<a href=\"https://colab.research.google.com/github/627alyosa451/hu-bby261-2025/blob/main/yapay_zeka_kodu.ipynb\" target=\"_parent\"><img src=\"https://colab.research.google.com/assets/colab-badge.svg\" alt=\"Open In Colab\"/></a>"
      ]
    },
    {
      "cell_type": "code",
      "execution_count": 6,
      "metadata": {
        "colab": {
          "base_uri": "https://localhost:8080/",
          "height": 270,
          "referenced_widgets": [
            "f0f1c21d09c84a49b32db8878c9cc566",
            "33ad43dce9414b1194d8bf6135acdf48",
            "25adebef8fd24c4bb174e97d2c15bcb3",
            "fedc4732e7a94d75afa30dabdd67f9d4",
            "872fa280d44e4cac93afc51faf0eaec8",
            "829194874aae48b698451cc04da908f5",
            "fb832510225f49d598286d1dc5a7d25c",
            "0c6fdbbf916a46999377d182d7c0ec48",
            "6f23bd0a71c243c8bfe4445a4d67f1fb"
          ]
        },
        "id": "DAQWR9V5wTWF",
        "outputId": "1b475e82-896d-47ba-b7ae-e1cb100b0c05"
      },
      "outputs": [
        {
          "output_type": "display_data",
          "data": {
            "text/plain": [
              "Text(value='', description='Başlangıç URL:', placeholder='https://example.com')"
            ],
            "application/vnd.jupyter.widget-view+json": {
              "version_major": 2,
              "version_minor": 0,
              "model_id": "f0f1c21d09c84a49b32db8878c9cc566"
            }
          },
          "metadata": {}
        },
        {
          "output_type": "display_data",
          "data": {
            "text/plain": [
              "IntSlider(value=1, description='Tarama Seviyesi:', max=5, min=1, style=SliderStyle(description_width='initial'…"
            ],
            "application/vnd.jupyter.widget-view+json": {
              "version_major": 2,
              "version_minor": 0,
              "model_id": "fedc4732e7a94d75afa30dabdd67f9d4"
            }
          },
          "metadata": {}
        },
        {
          "output_type": "display_data",
          "data": {
            "text/plain": [
              "Button(description='Tarama Başlat', style=ButtonStyle())"
            ],
            "application/vnd.jupyter.widget-view+json": {
              "version_major": 2,
              "version_minor": 0,
              "model_id": "fb832510225f49d598286d1dc5a7d25c"
            }
          },
          "metadata": {}
        },
        {
          "output_type": "stream",
          "name": "stdout",
          "text": [
            "URL alınamadı: http://www.hastane.hacettepe.edu.tr/ hata: HTTPSConnectionPool(host='hastane.hacettepe.edu.tr', port=443): Max retries exceeded with url: / (Caused by NameResolutionError(\"<urllib3.connection.HTTPSConnection object at 0x7c610d121e10>: Failed to resolve 'hastane.hacettepe.edu.tr' ([Errno -5] No address associated with hostname)\"))\n",
            "URL alınamadı: mailto:rektorluk@hacettepe.edu.tr hata: No connection adapters were found for 'mailto:rektorluk@hacettepe.edu.tr'\n",
            "URL alınamadı: mailto:tanitim@hacettepe.edu.tr hata: No connection adapters were found for 'mailto:tanitim@hacettepe.edu.tr'\n",
            "Tarama tamamlandı. Sonuçlar tarama_sonuclari.txt dosyasına kaydedildi.\n",
            "URL alınamadı: http://www.hastane.hacettepe.edu.tr/ hata: HTTPSConnectionPool(host='hastane.hacettepe.edu.tr', port=443): Max retries exceeded with url: / (Caused by SSLError(SSLError(1, '[SSL: DH_KEY_TOO_SMALL] dh key too small (_ssl.c:1007)')))\n",
            "URL alınamadı: mailto:rektorluk@hacettepe.edu.tr hata: No connection adapters were found for 'mailto:rektorluk@hacettepe.edu.tr'\n",
            "URL alınamadı: mailto:tanitim@hacettepe.edu.tr hata: No connection adapters were found for 'mailto:tanitim@hacettepe.edu.tr'\n",
            "Tarama tamamlandı. Sonuçlar tarama_sonuclari.txt dosyasına kaydedildi.\n"
          ]
        }
      ],
      "source": [
        "import requests #\n",
        "from bs4 import BeautifulSoup #\n",
        "from collections import deque\n",
        "import ipywidgets as widgets #\n",
        "from IPython.display import display\n",
        "\n",
        "# Form alanları\n",
        "url_input = widgets.Text(\n",
        "    description='Başlangıç URL:',\n",
        "    placeholder='https://example.com',\n",
        ")\n",
        "\n",
        "depth_input = widgets.IntSlider(\n",
        "    value=1,\n",
        "    min=1,\n",
        "    max=5,\n",
        "    step=1,\n",
        "    description='Tarama Seviyesi:',\n",
        "    style={'description_width': 'initial'},\n",
        ")\n",
        "\n",
        "submit_button = widgets.Button(description=\"Tarama Başlat\")\n",
        "\n",
        "def on_submit(b):\n",
        "    start_url = url_input.value\n",
        "    depth = depth_input.value\n",
        "    web_spider(start_url, depth)\n",
        "\n",
        "submit_button.on_click(on_submit)\n",
        "\n",
        "display(url_input, depth_input, submit_button)\n"
      ]
    },
    {
      "cell_type": "code",
      "execution_count": 7,
      "metadata": {
        "id": "JNn3hfHxwYkk"
      },
      "outputs": [],
      "source": [
        "def web_spider(start_url, max_depth):\n",
        "    visited = set()\n",
        "    queue = deque([(start_url, 0)])  # (url, depth)\n",
        "    results = []\n",
        "\n",
        "    while queue:\n",
        "        url, depth = queue.popleft()\n",
        "\n",
        "        if depth > max_depth:\n",
        "            break\n",
        "\n",
        "        if url in visited:\n",
        "            continue\n",
        "\n",
        "        visited.add(url)\n",
        "\n",
        "        try:\n",
        "            response = requests.get(url)\n",
        "            soup = BeautifulSoup(response.text, 'html.parser')\n",
        "\n",
        "            # Sayfa başlığını al\n",
        "            title = soup.title.string if soup.title else \"Başlık Yok\"\n",
        "            results.append((depth, url, title))\n",
        "\n",
        "            if depth < max_depth:\n",
        "                # Tüm <a> etiketlerini bul\n",
        "                for link in soup.find_all('a', href=True):\n",
        "                    absolute_url = requests.compat.urljoin(url, link['href'])\n",
        "                    if absolute_url not in visited:\n",
        "                        queue.append((absolute_url, depth + 1))\n",
        "        except Exception as e:\n",
        "            print(f\"URL alınamadı: {url} hata: {str(e)}\")\n",
        "\n",
        "    # Sonuçları dosyaya yaz\n",
        "    with open('/content/tarama_sonuclari.txt', 'w') as f:\n",
        "        for depth, url, title in results:\n",
        "            f.write(f\"Seviye {depth}: {url} - Başlık: {title}\\n\")\n",
        "\n",
        "    print(\"Tarama tamamlandı. Sonuçlar tarama_sonuclari.txt dosyasına kaydedildi.\")\n"
      ]
    },
    {
      "cell_type": "code",
      "execution_count": null,
      "metadata": {
        "colab": {
          "background_save": true
        },
        "id": "pLiq34CjwczI",
        "outputId": "e1ee7070-803d-4f41-abd0-b96917803e92"
      },
      "outputs": [
        {
          "name": "stdout",
          "output_type": "stream",
          "text": [
            "Seviye 0: https://madran.net/ - Başlık: R. Orçun Madran – Akademisyen | Aktivist | Triatlet\n",
            "Seviye 1: https://madran.net/#content - Başlık: R. Orçun Madran – Akademisyen | Aktivist | Triatlet\n",
            "Seviye 1: https://madran.net/#search-container - Başlık: R. Orçun Madran – Akademisyen | Aktivist | Triatlet\n",
            "Seviye 1: https://twitter.com/orcunmadran - Başlık: x.com\n",
            "Seviye 1: https://www.youtube.com/orcunmadran - Başlık: Orçun Madran - YouTube\n",
            "Seviye 1: https://www.instagram.com/orcunmadran/ - Başlık: Başlık Yok\n",
            "Seviye 1: https://www.facebook.com/orcunmadran/ - Başlık: Orçun Madran\n",
            "Seviye 1: https://www.linkedin.com/in/omadran/ - Başlık: Başlık Yok\n",
            "Seviye 1: https://www.strava.com/athletes/8784393 - Başlık: Orcun Madran | Strava Runner Profile\n",
            "Seviye 1: http://www.madran.net - Başlık: R. Orçun Madran – Akademisyen | Aktivist | Triatlet\n",
            "Seviye 1: https://madran.net/orcun_madran/ - Başlık: Dr. Orçun Madran – R. Orçun Madran\n",
            "Seviye 1: https://madran.net/akademik-yayinlar/ - Başlık: Yayınlar – R. Orçun Madran\n",
            "Seviye 1: https://podcasters.spotify.com/pod/show/orcunmadran - Başlık: Benim Gündemim • A podcast on Spotify for Podcasters\n",
            "Seviye 1: https://madran.net/category/akademiden-notlar/ - Başlık: Akademiden Notlar – R. Orçun Madran\n",
            "Seviye 1: https://podcasters.spotify.com/pod/show/akademiden-notlar - Başlık: Akademiden Notlar • A podcast on Spotify for Podcasters\n",
            "Seviye 1: https://madran.net/bby-162-programlama-ve-algoritmalar/ - Başlık: BBY 162 Programlama ve Algoritmalar – R. Orçun Madran\n",
            "Seviye 1: https://madran.net/bby-261-ileri-programlama/ - Başlık: BBY 261 İleri Programlama – R. Orçun Madran\n",
            "Seviye 1: https://madran.net/bby-262-web-tasarimi/ - Başlık: BBY 262 Web Tasarımı – R. Orçun Madran\n",
            "Seviye 1: https://madran.net/bby-265-elektronik-yayincilik-2015/ - Başlık: BBY 265 Elektronik Yayıncılık – R. Orçun Madran\n",
            "Seviye 1: https://madran.net/bby-361-veri-tabani-yonetim-sistemleri/ - Başlık: BBY 361 Veri Tabanı Yönetim Sistemleri – R. Orçun Madran\n",
            "Seviye 1: https://madran.net/bby-464-semantic-information-management/ - Başlık: BBY 464 Semantic Information Management – R. Orçun Madran\n",
            "Seviye 1: https://madran.net/bote-205-ogretim-teknolojileri-ve-materyal-gelistirme/ - Başlık: BÖTE 205 Öğretim Teknolojileri ve Materyal Geliştirme – R. Orçun Madran\n",
            "Seviye 1: https://madran.net/btu-100-bilgisayar-teknolojileri-ve-uygulamalarina-giris/ - Başlık: BTU 100 Bilgisayar Teknolojileri ve Uygulamalarına Giriş – R. Orçun Madran\n",
            "Seviye 1: https://madran.net/bisiklet-akademisi/ - Başlık: Bisiklet Akademisi – R. Orçun Madran\n",
            "Seviye 1: https://madran.net/muzik_diskografi/ - Başlık: Diskografi – R. Orçun Madran\n",
            "Seviye 1: https://madran.net/english/ - Başlık: Orçun Madran, PhD – R. Orçun Madran\n",
            "Seviye 1: https://madran.net/cevrimici-panel-acik-erisim-ve-arkeoloji-bilimi-baglaminda-juliopolis-projesi/ - Başlık: Çevrimiçi Panel: Açık Erişim ve Arkeoloji Bilimi Bağlamında Juliopolis Projesi – R. Orçun Madran\n",
            "Seviye 1: https://ae2024.acikerisim.org/hafta-programi/ - Başlık: Hafta Programı – AE2024\n",
            "Seviye 1: https://vekam.ku.edu.tr/events/jp_openaccess/ - Başlık: Açık Erişim ve Arkeoloji Bilimi Bağlamında Juliopolis Projesi - Koç Üniversitesi\n",
            "Seviye 1: https://madran.net/cevrimici-panel-acik-erisim-ve-arkeoloji-bilimi-baglaminda-juliopolis-projesi/#respond - Başlık: Çevrimiçi Panel: Açık Erişim ve Arkeoloji Bilimi Bağlamında Juliopolis Projesi – R. Orçun Madran\n",
            "Seviye 1: https://madran.net/acik-kultur-ve-yapay-zeka/ - Başlık: Açık Kültür ve Yapay Zekâ – R. Orçun Madran\n",
            "Seviye 1: https://www.vebist.net/ - Başlık: UluslararasÄ± Veri Bilimi ve Ä°statistik Kongresi - IDSSC 2024\n",
            "Seviye 1: https://www.vebist.net/tr/program - Başlık: UluslararasÄ± Veri Bilimi ve Ä°statistik Kongresi - IDSSC 2024\n",
            "Seviye 1: https://madran.net/acik-kultur-ve-yapay-zeka/#more-4937 - Başlık: Açık Kültür ve Yapay Zekâ – R. Orçun Madran\n",
            "Seviye 1: https://madran.net/acik-kultur-ve-yapay-zeka/#respond - Başlık: Açık Kültür ve Yapay Zekâ – R. Orçun Madran\n",
            "Seviye 1: https://madran.net/4909-2/ - Başlık: Uzaktan Eğitimde Açık Kaynak Araçlar panelinin ardından – R. Orçun Madran\n",
            "Seviye 1: https://www.artistanbul.io/ - Başlık: Artistanbul - Artistanbul\n",
            "Seviye 1: https://bilisimvadisi.com.tr/ - Başlık: Bilişim Vadisi - Technology Development Zone\n",
            "Seviye 1: https://creativecommons.org.tr/ - Başlık: Creative Commons Türkiye\n",
            "Seviye 1: https://bby.hacettepe.edu.tr/ - Başlık: Bilgi ve Belge Yönetimi Bölümü\n",
            "Seviye 1: https://madran.net/4909-2/#respond - Başlık: Uzaktan Eğitimde Açık Kaynak Araçlar panelinin ardından – R. Orçun Madran\n",
            "Seviye 1: https://madran.net/uzaktan-egitimde-acik-kaynak-araclar-paneli/ - Başlık: Uzaktan Eğitimde Açık Kaynak Araçlar Paneli – R. Orçun Madran\n",
            "Seviye 1: https://bilisimvadisi.com.tr/etkinlikler/uzaktan-egitimde-acik-kaynak-araclar/ - Başlık: Uzaktan Eğitimde Açık Kaynak Araçlar - Bilişim Vadisi\n",
            "Seviye 1: https://madran.net/uzaktan-egitimde-acik-kaynak-araclar-paneli/#respond - Başlık: Uzaktan Eğitimde Açık Kaynak Araçlar Paneli – R. Orçun Madran\n",
            "Seviye 1: https://madran.net/yapay-zeka-ve-bilgi-erisim/ - Başlık: Yapay Zekâ ve Bilgi Erişim – R. Orçun Madran\n",
            "Seviye 1: https://madran.net/yapay-zeka-ve-bilgi-erisim/#respond - Başlık: Yapay Zekâ ve Bilgi Erişim – R. Orçun Madran\n",
            "Seviye 1: https://madran.net/open-info-tr/ - Başlık: open.info.tr – R. Orçun Madran\n",
            "Seviye 1: https://open.info.tr/ - Başlık: Open Information Technologies\n",
            "Seviye 1: https://madran.net/open-info-tr/#respond - Başlık: open.info.tr – R. Orçun Madran\n",
            "Seviye 1: https://madran.net/yeni-podcast-serisi-benim-gundemim/ - Başlık: Yeni Podcast Serisi: Benim Gündemim – R. Orçun Madran\n",
            "Seviye 1: https://open.spotify.com/show/7MfAAMYGMQUlzE7SOqPoBT - Başlık: Benim Gündemim | Podcast on Spotify\n",
            "Seviye 1: https://madran.net/yeni-podcast-serisi-benim-gundemim/#respond - Başlık: Yeni Podcast Serisi: Benim Gündemim – R. Orçun Madran\n",
            "Seviye 1: https://madran.net/kamu-mali-gunu-ve-egitime-yansimalari/ - Başlık: Kamu Malı Günü ve Eğitime Yansımaları – R. Orçun Madran\n",
            "Seviye 1: https://madran.net/kamu-mali-gunu-ve-egitime-yansimalari/#respond - Başlık: Kamu Malı Günü ve Eğitime Yansımaları – R. Orçun Madran\n",
            "Seviye 1: https://madran.net/sportif-meydan-okuma-aralik-2023/ - Başlık: Sportif Meydan Okuma Aralık 2023 – R. Orçun Madran\n",
            "Seviye 1: https://madran.net/sportif-meydan-okuma-aralik-2023/#respond - Başlık: Sportif Meydan Okuma Aralık 2023 – R. Orçun Madran\n",
            "Seviye 1: https://madran.net/sportif-meydan-okuma-kasim-2023/ - Başlık: Sportif Meydan Okuma Kasım 2023 – R. Orçun Madran\n",
            "Seviye 1: https://madran.net/sportif-meydan-okuma-kasim-2023/#respond - Başlık: Sportif Meydan Okuma Kasım 2023 – R. Orçun Madran\n",
            "Seviye 1: https://madran.net/page/2/ - Başlık: R. Orçun Madran – Sayfa 2 – Akademisyen | Aktivist | Triatlet\n",
            "Seviye 1: https://twitter.com/orcunmadran?ref_src=twsrc%5Etfw - Başlık: x.com\n",
            "Seviye 1: https://www.instagram.com/p/DBLTKn9ILTK/ - Başlık: Instagram\n",
            "Seviye 1: https://www.instagram.com/p/DBD9GOcoT30/ - Başlık: Orçun Madran | Runkara: Ankara Yarı Maratonu\n",
            "21K - 1:51:18 | Instagram\n",
            "Seviye 1: https://www.instagram.com/p/DBB8YgXokvA/ - Başlık: Orçun Madran | 1994'den bu yana 30 yılı geride bıraktık, birlikte olacağımız nice otuz yıllara :) | Instagram\n",
            "Seviye 1: https://www.instagram.com/p/DA5qM0vM5C4/ - Başlık: Orçun Madran | Uluslararası Açık Erişim Haftası kapsamında bu yıl farklı etkinlikler gerçekleştiriyoruz. Hafta programını... | Instagram\n",
            "Seviye 1: https://www.instagram.com/p/DArGZT1IsKp/ - Başlık: Instagram\n",
            "Seviye 1: https://www.instagram.com/p/DArGNcIIu7T/ - Başlık: Orçun Madran | Avrupa Spor Haftası #TBT | Instagram\n",
            "Seviye 1: https://www.instagram.com/p/DAIMjTjIdc4/ - Başlık: Orçun Madran | Demokrasi için Mimarlar Platformu, docomomo_tr, Icomos_tr ve Korder işbirliğiyle kültürel mirasın korunması konusunda büyük emekler vermiş... | Instagram\n",
            "Seviye 1: https://www.instagram.com/p/C_7wwyGAYr8/ - Başlık: Orçun Madran | Pazar koşusu..!\n",
            "📷@gurhanbulu 🙏 | Instagram\n",
            "Seviye 1: https://www.instagram.com/p/C_wt-PWAxrR/ - Başlık: Orçun Madran | Salı akşamları Beytepe Stadyumdayız..! | Instagram\n",
            "Seviye 1: https://www.instagram.com/p/C_llHNzAcBH/ - Başlık: Orçun Madran | Genelde koşarken yanımızda telefon olmuyor; 1-2 saat telefondan uzak kalmak bile iyi geliyor aslında. Bu bağlamda koşu fotoğrafları da az... | Instagram\n",
            "Seviye 1: https://www.instagram.com/p/C_Fy_IWgA4o/ - Başlık: Orçun Madran | Üçüncüsü düzenlenen @granfondobaskent kısa parkur kazasız belasız bitti. Her yarışı sağlıklı olarak bitirebilmek ana hedefim. Ne mutlu ki... | Instagram\n",
            "Seviye 1: https://www.instagram.com/p/C-71W_lgLV2/ - Başlık: Orçun Madran | Kuzenler, halalar, enişteler, yeğenler 😍 | Instagram\n",
            "Seviye 1: http://creativecommons.org/licenses/by/4.0/ - Başlık: \n",
            "   Deed - Attribution 4.0 International\n",
            " - Creative Commons\n",
            "  \n",
            "Seviye 1: https://maps.google.com/maps?z=16&q=hacettepe%2B%C3%9Cniversitesi%2Bbilgi%2Bve%2Bbelge%2By%C3%B6netimi%2Bb%C3%B6l%C3%BCm%C3%BC%2Bedebiyat%2Bfak%C3%BCltesi%2Bb%2Bkap%C4%B1s%C4%B1%2B06800%2Bbeytepe%2Fankara - Başlık:   Google Maps  \n",
            "Seviye 1: https://automattic.com/cookies/ - Başlık: Cookie Policy – Automattic\n",
            "Seviye 1: http://wordpress.org/ - Başlık: 429 Too Many Requests\n",
            "Seviye 1: http://www.andersnoren.se/teman/baskerville-wordpress-theme/ - Başlık: Baskerville WordPress Theme – Anders Norén\n",
            "\n"
          ]
        }
      ],
      "source": [
        "# Tarama sonuçlarını görüntüleme\n",
        "with open('/content/tarama_sonuclari.txt', 'r') as f:\n",
        "    print(f.read())\n"
      ]
    }
  ],
  "metadata": {
    "colab": {
      "provenance": [],
      "authorship_tag": "ABX9TyOQNeqP9nxGS5z78jnOOhJi",
      "include_colab_link": true
    },
    "kernelspec": {
      "display_name": "Python 3",
      "name": "python3"
    },
    "language_info": {
      "name": "python"
    },
    "widgets": {
      "application/vnd.jupyter.widget-state+json": {
        "f0f1c21d09c84a49b32db8878c9cc566": {
          "model_module": "@jupyter-widgets/controls",
          "model_name": "TextModel",
          "model_module_version": "1.5.0",
          "state": {
            "_dom_classes": [],
            "_model_module": "@jupyter-widgets/controls",
            "_model_module_version": "1.5.0",
            "_model_name": "TextModel",
            "_view_count": null,
            "_view_module": "@jupyter-widgets/controls",
            "_view_module_version": "1.5.0",
            "_view_name": "TextView",
            "continuous_update": true,
            "description": "Başlangıç URL:",
            "description_tooltip": null,
            "disabled": false,
            "layout": "IPY_MODEL_33ad43dce9414b1194d8bf6135acdf48",
            "placeholder": "https://example.com",
            "style": "IPY_MODEL_25adebef8fd24c4bb174e97d2c15bcb3",
            "value": "https://www.hacettepe.edu.tr/"
          }
        },
        "33ad43dce9414b1194d8bf6135acdf48": {
          "model_module": "@jupyter-widgets/base",
          "model_name": "LayoutModel",
          "model_module_version": "1.2.0",
          "state": {
            "_model_module": "@jupyter-widgets/base",
            "_model_module_version": "1.2.0",
            "_model_name": "LayoutModel",
            "_view_count": null,
            "_view_module": "@jupyter-widgets/base",
            "_view_module_version": "1.2.0",
            "_view_name": "LayoutView",
            "align_content": null,
            "align_items": null,
            "align_self": null,
            "border": null,
            "bottom": null,
            "display": null,
            "flex": null,
            "flex_flow": null,
            "grid_area": null,
            "grid_auto_columns": null,
            "grid_auto_flow": null,
            "grid_auto_rows": null,
            "grid_column": null,
            "grid_gap": null,
            "grid_row": null,
            "grid_template_areas": null,
            "grid_template_columns": null,
            "grid_template_rows": null,
            "height": null,
            "justify_content": null,
            "justify_items": null,
            "left": null,
            "margin": null,
            "max_height": null,
            "max_width": null,
            "min_height": null,
            "min_width": null,
            "object_fit": null,
            "object_position": null,
            "order": null,
            "overflow": null,
            "overflow_x": null,
            "overflow_y": null,
            "padding": null,
            "right": null,
            "top": null,
            "visibility": null,
            "width": null
          }
        },
        "25adebef8fd24c4bb174e97d2c15bcb3": {
          "model_module": "@jupyter-widgets/controls",
          "model_name": "DescriptionStyleModel",
          "model_module_version": "1.5.0",
          "state": {
            "_model_module": "@jupyter-widgets/controls",
            "_model_module_version": "1.5.0",
            "_model_name": "DescriptionStyleModel",
            "_view_count": null,
            "_view_module": "@jupyter-widgets/base",
            "_view_module_version": "1.2.0",
            "_view_name": "StyleView",
            "description_width": ""
          }
        },
        "fedc4732e7a94d75afa30dabdd67f9d4": {
          "model_module": "@jupyter-widgets/controls",
          "model_name": "IntSliderModel",
          "model_module_version": "1.5.0",
          "state": {
            "_dom_classes": [],
            "_model_module": "@jupyter-widgets/controls",
            "_model_module_version": "1.5.0",
            "_model_name": "IntSliderModel",
            "_view_count": null,
            "_view_module": "@jupyter-widgets/controls",
            "_view_module_version": "1.5.0",
            "_view_name": "IntSliderView",
            "continuous_update": true,
            "description": "Tarama Seviyesi:",
            "description_tooltip": null,
            "disabled": false,
            "layout": "IPY_MODEL_872fa280d44e4cac93afc51faf0eaec8",
            "max": 5,
            "min": 1,
            "orientation": "horizontal",
            "readout": true,
            "readout_format": "d",
            "step": 1,
            "style": "IPY_MODEL_829194874aae48b698451cc04da908f5",
            "value": 1
          }
        },
        "872fa280d44e4cac93afc51faf0eaec8": {
          "model_module": "@jupyter-widgets/base",
          "model_name": "LayoutModel",
          "model_module_version": "1.2.0",
          "state": {
            "_model_module": "@jupyter-widgets/base",
            "_model_module_version": "1.2.0",
            "_model_name": "LayoutModel",
            "_view_count": null,
            "_view_module": "@jupyter-widgets/base",
            "_view_module_version": "1.2.0",
            "_view_name": "LayoutView",
            "align_content": null,
            "align_items": null,
            "align_self": null,
            "border": null,
            "bottom": null,
            "display": null,
            "flex": null,
            "flex_flow": null,
            "grid_area": null,
            "grid_auto_columns": null,
            "grid_auto_flow": null,
            "grid_auto_rows": null,
            "grid_column": null,
            "grid_gap": null,
            "grid_row": null,
            "grid_template_areas": null,
            "grid_template_columns": null,
            "grid_template_rows": null,
            "height": null,
            "justify_content": null,
            "justify_items": null,
            "left": null,
            "margin": null,
            "max_height": null,
            "max_width": null,
            "min_height": null,
            "min_width": null,
            "object_fit": null,
            "object_position": null,
            "order": null,
            "overflow": null,
            "overflow_x": null,
            "overflow_y": null,
            "padding": null,
            "right": null,
            "top": null,
            "visibility": null,
            "width": null
          }
        },
        "829194874aae48b698451cc04da908f5": {
          "model_module": "@jupyter-widgets/controls",
          "model_name": "SliderStyleModel",
          "model_module_version": "1.5.0",
          "state": {
            "_model_module": "@jupyter-widgets/controls",
            "_model_module_version": "1.5.0",
            "_model_name": "SliderStyleModel",
            "_view_count": null,
            "_view_module": "@jupyter-widgets/base",
            "_view_module_version": "1.2.0",
            "_view_name": "StyleView",
            "description_width": "initial",
            "handle_color": null
          }
        },
        "fb832510225f49d598286d1dc5a7d25c": {
          "model_module": "@jupyter-widgets/controls",
          "model_name": "ButtonModel",
          "model_module_version": "1.5.0",
          "state": {
            "_dom_classes": [],
            "_model_module": "@jupyter-widgets/controls",
            "_model_module_version": "1.5.0",
            "_model_name": "ButtonModel",
            "_view_count": null,
            "_view_module": "@jupyter-widgets/controls",
            "_view_module_version": "1.5.0",
            "_view_name": "ButtonView",
            "button_style": "",
            "description": "Tarama Başlat",
            "disabled": false,
            "icon": "",
            "layout": "IPY_MODEL_0c6fdbbf916a46999377d182d7c0ec48",
            "style": "IPY_MODEL_6f23bd0a71c243c8bfe4445a4d67f1fb",
            "tooltip": ""
          }
        },
        "0c6fdbbf916a46999377d182d7c0ec48": {
          "model_module": "@jupyter-widgets/base",
          "model_name": "LayoutModel",
          "model_module_version": "1.2.0",
          "state": {
            "_model_module": "@jupyter-widgets/base",
            "_model_module_version": "1.2.0",
            "_model_name": "LayoutModel",
            "_view_count": null,
            "_view_module": "@jupyter-widgets/base",
            "_view_module_version": "1.2.0",
            "_view_name": "LayoutView",
            "align_content": null,
            "align_items": null,
            "align_self": null,
            "border": null,
            "bottom": null,
            "display": null,
            "flex": null,
            "flex_flow": null,
            "grid_area": null,
            "grid_auto_columns": null,
            "grid_auto_flow": null,
            "grid_auto_rows": null,
            "grid_column": null,
            "grid_gap": null,
            "grid_row": null,
            "grid_template_areas": null,
            "grid_template_columns": null,
            "grid_template_rows": null,
            "height": null,
            "justify_content": null,
            "justify_items": null,
            "left": null,
            "margin": null,
            "max_height": null,
            "max_width": null,
            "min_height": null,
            "min_width": null,
            "object_fit": null,
            "object_position": null,
            "order": null,
            "overflow": null,
            "overflow_x": null,
            "overflow_y": null,
            "padding": null,
            "right": null,
            "top": null,
            "visibility": null,
            "width": null
          }
        },
        "6f23bd0a71c243c8bfe4445a4d67f1fb": {
          "model_module": "@jupyter-widgets/controls",
          "model_name": "ButtonStyleModel",
          "model_module_version": "1.5.0",
          "state": {
            "_model_module": "@jupyter-widgets/controls",
            "_model_module_version": "1.5.0",
            "_model_name": "ButtonStyleModel",
            "_view_count": null,
            "_view_module": "@jupyter-widgets/base",
            "_view_module_version": "1.2.0",
            "_view_name": "StyleView",
            "button_color": null,
            "font_weight": ""
          }
        }
      }
    }
  },
  "nbformat": 4,
  "nbformat_minor": 0
}